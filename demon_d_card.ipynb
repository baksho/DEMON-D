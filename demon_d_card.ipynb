{
  "nbformat": 4,
  "nbformat_minor": 0,
  "metadata": {
    "colab": {
      "provenance": []
    },
    "kernelspec": {
      "name": "python3",
      "display_name": "Python 3"
    },
    "language_info": {
      "name": "python"
    }
  },
  "cells": [
    {
      "cell_type": "code",
      "source": [
        "!pip install umap-learn biopython transformers torch"
      ],
      "metadata": {
        "colab": {
          "base_uri": "https://localhost:8080/"
        },
        "id": "uFY6rga09LhX",
        "outputId": "3b99e9c6-0a4c-45b4-a803-4b8c9709f80d"
      },
      "execution_count": 1,
      "outputs": [
        {
          "output_type": "stream",
          "name": "stdout",
          "text": [
            "Requirement already satisfied: umap-learn in /usr/local/lib/python3.11/dist-packages (0.5.7)\n",
            "Collecting biopython\n",
            "  Downloading biopython-1.85-cp311-cp311-manylinux_2_17_x86_64.manylinux2014_x86_64.whl.metadata (13 kB)\n",
            "Requirement already satisfied: transformers in /usr/local/lib/python3.11/dist-packages (4.51.3)\n",
            "Requirement already satisfied: torch in /usr/local/lib/python3.11/dist-packages (2.6.0+cu124)\n",
            "Requirement already satisfied: numpy>=1.17 in /usr/local/lib/python3.11/dist-packages (from umap-learn) (2.0.2)\n",
            "Requirement already satisfied: scipy>=1.3.1 in /usr/local/lib/python3.11/dist-packages (from umap-learn) (1.15.3)\n",
            "Requirement already satisfied: scikit-learn>=0.22 in /usr/local/lib/python3.11/dist-packages (from umap-learn) (1.6.1)\n",
            "Requirement already satisfied: numba>=0.51.2 in /usr/local/lib/python3.11/dist-packages (from umap-learn) (0.60.0)\n",
            "Requirement already satisfied: pynndescent>=0.5 in /usr/local/lib/python3.11/dist-packages (from umap-learn) (0.5.13)\n",
            "Requirement already satisfied: tqdm in /usr/local/lib/python3.11/dist-packages (from umap-learn) (4.67.1)\n",
            "Requirement already satisfied: filelock in /usr/local/lib/python3.11/dist-packages (from transformers) (3.18.0)\n",
            "Requirement already satisfied: huggingface-hub<1.0,>=0.30.0 in /usr/local/lib/python3.11/dist-packages (from transformers) (0.31.2)\n",
            "Requirement already satisfied: packaging>=20.0 in /usr/local/lib/python3.11/dist-packages (from transformers) (24.2)\n",
            "Requirement already satisfied: pyyaml>=5.1 in /usr/local/lib/python3.11/dist-packages (from transformers) (6.0.2)\n",
            "Requirement already satisfied: regex!=2019.12.17 in /usr/local/lib/python3.11/dist-packages (from transformers) (2024.11.6)\n",
            "Requirement already satisfied: requests in /usr/local/lib/python3.11/dist-packages (from transformers) (2.32.3)\n",
            "Requirement already satisfied: tokenizers<0.22,>=0.21 in /usr/local/lib/python3.11/dist-packages (from transformers) (0.21.1)\n",
            "Requirement already satisfied: safetensors>=0.4.3 in /usr/local/lib/python3.11/dist-packages (from transformers) (0.5.3)\n",
            "Requirement already satisfied: typing-extensions>=4.10.0 in /usr/local/lib/python3.11/dist-packages (from torch) (4.13.2)\n",
            "Requirement already satisfied: networkx in /usr/local/lib/python3.11/dist-packages (from torch) (3.4.2)\n",
            "Requirement already satisfied: jinja2 in /usr/local/lib/python3.11/dist-packages (from torch) (3.1.6)\n",
            "Requirement already satisfied: fsspec in /usr/local/lib/python3.11/dist-packages (from torch) (2025.3.2)\n",
            "Collecting nvidia-cuda-nvrtc-cu12==12.4.127 (from torch)\n",
            "  Downloading nvidia_cuda_nvrtc_cu12-12.4.127-py3-none-manylinux2014_x86_64.whl.metadata (1.5 kB)\n",
            "Collecting nvidia-cuda-runtime-cu12==12.4.127 (from torch)\n",
            "  Downloading nvidia_cuda_runtime_cu12-12.4.127-py3-none-manylinux2014_x86_64.whl.metadata (1.5 kB)\n",
            "Collecting nvidia-cuda-cupti-cu12==12.4.127 (from torch)\n",
            "  Downloading nvidia_cuda_cupti_cu12-12.4.127-py3-none-manylinux2014_x86_64.whl.metadata (1.6 kB)\n",
            "Collecting nvidia-cudnn-cu12==9.1.0.70 (from torch)\n",
            "  Downloading nvidia_cudnn_cu12-9.1.0.70-py3-none-manylinux2014_x86_64.whl.metadata (1.6 kB)\n",
            "Collecting nvidia-cublas-cu12==12.4.5.8 (from torch)\n",
            "  Downloading nvidia_cublas_cu12-12.4.5.8-py3-none-manylinux2014_x86_64.whl.metadata (1.5 kB)\n",
            "Collecting nvidia-cufft-cu12==11.2.1.3 (from torch)\n",
            "  Downloading nvidia_cufft_cu12-11.2.1.3-py3-none-manylinux2014_x86_64.whl.metadata (1.5 kB)\n",
            "Collecting nvidia-curand-cu12==10.3.5.147 (from torch)\n",
            "  Downloading nvidia_curand_cu12-10.3.5.147-py3-none-manylinux2014_x86_64.whl.metadata (1.5 kB)\n",
            "Collecting nvidia-cusolver-cu12==11.6.1.9 (from torch)\n",
            "  Downloading nvidia_cusolver_cu12-11.6.1.9-py3-none-manylinux2014_x86_64.whl.metadata (1.6 kB)\n",
            "Collecting nvidia-cusparse-cu12==12.3.1.170 (from torch)\n",
            "  Downloading nvidia_cusparse_cu12-12.3.1.170-py3-none-manylinux2014_x86_64.whl.metadata (1.6 kB)\n",
            "Requirement already satisfied: nvidia-cusparselt-cu12==0.6.2 in /usr/local/lib/python3.11/dist-packages (from torch) (0.6.2)\n",
            "Requirement already satisfied: nvidia-nccl-cu12==2.21.5 in /usr/local/lib/python3.11/dist-packages (from torch) (2.21.5)\n",
            "Requirement already satisfied: nvidia-nvtx-cu12==12.4.127 in /usr/local/lib/python3.11/dist-packages (from torch) (12.4.127)\n",
            "Collecting nvidia-nvjitlink-cu12==12.4.127 (from torch)\n",
            "  Downloading nvidia_nvjitlink_cu12-12.4.127-py3-none-manylinux2014_x86_64.whl.metadata (1.5 kB)\n",
            "Requirement already satisfied: triton==3.2.0 in /usr/local/lib/python3.11/dist-packages (from torch) (3.2.0)\n",
            "Requirement already satisfied: sympy==1.13.1 in /usr/local/lib/python3.11/dist-packages (from torch) (1.13.1)\n",
            "Requirement already satisfied: mpmath<1.4,>=1.1.0 in /usr/local/lib/python3.11/dist-packages (from sympy==1.13.1->torch) (1.3.0)\n",
            "Requirement already satisfied: llvmlite<0.44,>=0.43.0dev0 in /usr/local/lib/python3.11/dist-packages (from numba>=0.51.2->umap-learn) (0.43.0)\n",
            "Requirement already satisfied: joblib>=0.11 in /usr/local/lib/python3.11/dist-packages (from pynndescent>=0.5->umap-learn) (1.5.0)\n",
            "Requirement already satisfied: threadpoolctl>=3.1.0 in /usr/local/lib/python3.11/dist-packages (from scikit-learn>=0.22->umap-learn) (3.6.0)\n",
            "Requirement already satisfied: MarkupSafe>=2.0 in /usr/local/lib/python3.11/dist-packages (from jinja2->torch) (3.0.2)\n",
            "Requirement already satisfied: charset-normalizer<4,>=2 in /usr/local/lib/python3.11/dist-packages (from requests->transformers) (3.4.2)\n",
            "Requirement already satisfied: idna<4,>=2.5 in /usr/local/lib/python3.11/dist-packages (from requests->transformers) (3.10)\n",
            "Requirement already satisfied: urllib3<3,>=1.21.1 in /usr/local/lib/python3.11/dist-packages (from requests->transformers) (2.4.0)\n",
            "Requirement already satisfied: certifi>=2017.4.17 in /usr/local/lib/python3.11/dist-packages (from requests->transformers) (2025.4.26)\n",
            "Downloading biopython-1.85-cp311-cp311-manylinux_2_17_x86_64.manylinux2014_x86_64.whl (3.3 MB)\n",
            "\u001b[2K   \u001b[90m━━━━━━━━━━━━━━━━━━━━━━━━━━━━━━━━━━━━━━━━\u001b[0m \u001b[32m3.3/3.3 MB\u001b[0m \u001b[31m28.2 MB/s\u001b[0m eta \u001b[36m0:00:00\u001b[0m\n",
            "\u001b[?25hDownloading nvidia_cublas_cu12-12.4.5.8-py3-none-manylinux2014_x86_64.whl (363.4 MB)\n",
            "\u001b[2K   \u001b[90m━━━━━━━━━━━━━━━━━━━━━━━━━━━━━━━━━━━━━━━━\u001b[0m \u001b[32m363.4/363.4 MB\u001b[0m \u001b[31m4.1 MB/s\u001b[0m eta \u001b[36m0:00:00\u001b[0m\n",
            "\u001b[?25hDownloading nvidia_cuda_cupti_cu12-12.4.127-py3-none-manylinux2014_x86_64.whl (13.8 MB)\n",
            "\u001b[2K   \u001b[90m━━━━━━━━━━━━━━━━━━━━━━━━━━━━━━━━━━━━━━━━\u001b[0m \u001b[32m13.8/13.8 MB\u001b[0m \u001b[31m64.0 MB/s\u001b[0m eta \u001b[36m0:00:00\u001b[0m\n",
            "\u001b[?25hDownloading nvidia_cuda_nvrtc_cu12-12.4.127-py3-none-manylinux2014_x86_64.whl (24.6 MB)\n",
            "\u001b[2K   \u001b[90m━━━━━━━━━━━━━━━━━━━━━━━━━━━━━━━━━━━━━━━━\u001b[0m \u001b[32m24.6/24.6 MB\u001b[0m \u001b[31m33.3 MB/s\u001b[0m eta \u001b[36m0:00:00\u001b[0m\n",
            "\u001b[?25hDownloading nvidia_cuda_runtime_cu12-12.4.127-py3-none-manylinux2014_x86_64.whl (883 kB)\n",
            "\u001b[2K   \u001b[90m━━━━━━━━━━━━━━━━━━━━━━━━━━━━━━━━━━━━━━━━\u001b[0m \u001b[32m883.7/883.7 kB\u001b[0m \u001b[31m41.3 MB/s\u001b[0m eta \u001b[36m0:00:00\u001b[0m\n",
            "\u001b[?25hDownloading nvidia_cudnn_cu12-9.1.0.70-py3-none-manylinux2014_x86_64.whl (664.8 MB)\n",
            "\u001b[2K   \u001b[90m━━━━━━━━━━━━━━━━━━━━━━━━━━━━━━━━━━━━━━━━\u001b[0m \u001b[32m664.8/664.8 MB\u001b[0m \u001b[31m2.1 MB/s\u001b[0m eta \u001b[36m0:00:00\u001b[0m\n",
            "\u001b[?25hDownloading nvidia_cufft_cu12-11.2.1.3-py3-none-manylinux2014_x86_64.whl (211.5 MB)\n",
            "\u001b[2K   \u001b[90m━━━━━━━━━━━━━━━━━━━━━━━━━━━━━━━━━━━━━━━━\u001b[0m \u001b[32m211.5/211.5 MB\u001b[0m \u001b[31m5.8 MB/s\u001b[0m eta \u001b[36m0:00:00\u001b[0m\n",
            "\u001b[?25hDownloading nvidia_curand_cu12-10.3.5.147-py3-none-manylinux2014_x86_64.whl (56.3 MB)\n",
            "\u001b[2K   \u001b[90m━━━━━━━━━━━━━━━━━━━━━━━━━━━━━━━━━━━━━━━━\u001b[0m \u001b[32m56.3/56.3 MB\u001b[0m \u001b[31m12.8 MB/s\u001b[0m eta \u001b[36m0:00:00\u001b[0m\n",
            "\u001b[?25hDownloading nvidia_cusolver_cu12-11.6.1.9-py3-none-manylinux2014_x86_64.whl (127.9 MB)\n",
            "\u001b[2K   \u001b[90m━━━━━━━━━━━━━━━━━━━━━━━━━━━━━━━━━━━━━━━━\u001b[0m \u001b[32m127.9/127.9 MB\u001b[0m \u001b[31m7.4 MB/s\u001b[0m eta \u001b[36m0:00:00\u001b[0m\n",
            "\u001b[?25hDownloading nvidia_cusparse_cu12-12.3.1.170-py3-none-manylinux2014_x86_64.whl (207.5 MB)\n",
            "\u001b[2K   \u001b[90m━━━━━━━━━━━━━━━━━━━━━━━━━━━━━━━━━━━━━━━━\u001b[0m \u001b[32m207.5/207.5 MB\u001b[0m \u001b[31m5.9 MB/s\u001b[0m eta \u001b[36m0:00:00\u001b[0m\n",
            "\u001b[?25hDownloading nvidia_nvjitlink_cu12-12.4.127-py3-none-manylinux2014_x86_64.whl (21.1 MB)\n",
            "\u001b[2K   \u001b[90m━━━━━━━━━━━━━━━━━━━━━━━━━━━━━━━━━━━━━━━━\u001b[0m \u001b[32m21.1/21.1 MB\u001b[0m \u001b[31m87.1 MB/s\u001b[0m eta \u001b[36m0:00:00\u001b[0m\n",
            "\u001b[?25hInstalling collected packages: nvidia-nvjitlink-cu12, nvidia-curand-cu12, nvidia-cufft-cu12, nvidia-cuda-runtime-cu12, nvidia-cuda-nvrtc-cu12, nvidia-cuda-cupti-cu12, nvidia-cublas-cu12, biopython, nvidia-cusparse-cu12, nvidia-cudnn-cu12, nvidia-cusolver-cu12\n",
            "  Attempting uninstall: nvidia-nvjitlink-cu12\n",
            "    Found existing installation: nvidia-nvjitlink-cu12 12.5.82\n",
            "    Uninstalling nvidia-nvjitlink-cu12-12.5.82:\n",
            "      Successfully uninstalled nvidia-nvjitlink-cu12-12.5.82\n",
            "  Attempting uninstall: nvidia-curand-cu12\n",
            "    Found existing installation: nvidia-curand-cu12 10.3.6.82\n",
            "    Uninstalling nvidia-curand-cu12-10.3.6.82:\n",
            "      Successfully uninstalled nvidia-curand-cu12-10.3.6.82\n",
            "  Attempting uninstall: nvidia-cufft-cu12\n",
            "    Found existing installation: nvidia-cufft-cu12 11.2.3.61\n",
            "    Uninstalling nvidia-cufft-cu12-11.2.3.61:\n",
            "      Successfully uninstalled nvidia-cufft-cu12-11.2.3.61\n",
            "  Attempting uninstall: nvidia-cuda-runtime-cu12\n",
            "    Found existing installation: nvidia-cuda-runtime-cu12 12.5.82\n",
            "    Uninstalling nvidia-cuda-runtime-cu12-12.5.82:\n",
            "      Successfully uninstalled nvidia-cuda-runtime-cu12-12.5.82\n",
            "  Attempting uninstall: nvidia-cuda-nvrtc-cu12\n",
            "    Found existing installation: nvidia-cuda-nvrtc-cu12 12.5.82\n",
            "    Uninstalling nvidia-cuda-nvrtc-cu12-12.5.82:\n",
            "      Successfully uninstalled nvidia-cuda-nvrtc-cu12-12.5.82\n",
            "  Attempting uninstall: nvidia-cuda-cupti-cu12\n",
            "    Found existing installation: nvidia-cuda-cupti-cu12 12.5.82\n",
            "    Uninstalling nvidia-cuda-cupti-cu12-12.5.82:\n",
            "      Successfully uninstalled nvidia-cuda-cupti-cu12-12.5.82\n",
            "  Attempting uninstall: nvidia-cublas-cu12\n",
            "    Found existing installation: nvidia-cublas-cu12 12.5.3.2\n",
            "    Uninstalling nvidia-cublas-cu12-12.5.3.2:\n",
            "      Successfully uninstalled nvidia-cublas-cu12-12.5.3.2\n",
            "  Attempting uninstall: nvidia-cusparse-cu12\n",
            "    Found existing installation: nvidia-cusparse-cu12 12.5.1.3\n",
            "    Uninstalling nvidia-cusparse-cu12-12.5.1.3:\n",
            "      Successfully uninstalled nvidia-cusparse-cu12-12.5.1.3\n",
            "  Attempting uninstall: nvidia-cudnn-cu12\n",
            "    Found existing installation: nvidia-cudnn-cu12 9.3.0.75\n",
            "    Uninstalling nvidia-cudnn-cu12-9.3.0.75:\n",
            "      Successfully uninstalled nvidia-cudnn-cu12-9.3.0.75\n",
            "  Attempting uninstall: nvidia-cusolver-cu12\n",
            "    Found existing installation: nvidia-cusolver-cu12 11.6.3.83\n",
            "    Uninstalling nvidia-cusolver-cu12-11.6.3.83:\n",
            "      Successfully uninstalled nvidia-cusolver-cu12-11.6.3.83\n",
            "Successfully installed biopython-1.85 nvidia-cublas-cu12-12.4.5.8 nvidia-cuda-cupti-cu12-12.4.127 nvidia-cuda-nvrtc-cu12-12.4.127 nvidia-cuda-runtime-cu12-12.4.127 nvidia-cudnn-cu12-9.1.0.70 nvidia-cufft-cu12-11.2.1.3 nvidia-curand-cu12-10.3.5.147 nvidia-cusolver-cu12-11.6.1.9 nvidia-cusparse-cu12-12.3.1.170 nvidia-nvjitlink-cu12-12.4.127\n"
          ]
        }
      ]
    },
    {
      "cell_type": "markdown",
      "source": [
        "### **Data Preprocessing**:\n",
        "*   Download sequences in FASTA format\n",
        "*   Filter to get 200-500 sequences with binary labels (e.g., resistant vs. non-resistant)\n",
        "*   Clean sequences (remove ambiguous nucleotides, standardize length if necessary)\n",
        "*   Split data into classes based on labels"
      ],
      "metadata": {
        "id": "9GpjEAvT8maE"
      }
    },
    {
      "cell_type": "code",
      "source": [
        "def normalize_id(id_str):\n",
        "    if '.' in id_str:\n",
        "        left, right = id_str.split('.')\n",
        "        return f\"{left}.{right.ljust(5, '0')}\"\n",
        "    return id_str"
      ],
      "metadata": {
        "id": "bsWfRZFyA5lG"
      },
      "execution_count": 13,
      "outputs": []
    },
    {
      "cell_type": "code",
      "execution_count": 41,
      "metadata": {
        "colab": {
          "base_uri": "https://localhost:8080/"
        },
        "id": "idUEC9Cq6tx2",
        "outputId": "b5539cfc-5b61-4a44-8f5c-0a25f3aa1f21"
      },
      "outputs": [
        {
          "output_type": "stream",
          "name": "stdout",
          "text": [
            "Shape of fasta_df:  (135, 2)\n",
            "Shape of labels_df:  (135, 2)\n",
            "Number of rows in merged_df after initial merge: 135\n"
          ]
        }
      ],
      "source": [
        "from Bio import SeqIO\n",
        "import pandas as pd\n",
        "import numpy as np\n",
        "\n",
        "\n",
        "# Step 1: Parse FASTA file and collect sequences with their IDs\n",
        "fasta_records = []\n",
        "for record in SeqIO.parse(\"pbp4.fasta\", \"fasta\"):\n",
        "    fasta_records.append({\n",
        "        'id': record.id,  # Extracts the unique ID like 1280.113\n",
        "        'sequence': str(record.seq)\n",
        "    })\n",
        "\n",
        "fasta_df = pd.DataFrame(fasta_records)\n",
        "\n",
        "fasta_df['id'] = fasta_df['id'].astype(str).apply(normalize_id)\n",
        "\n",
        "print(\"Shape of fasta_df: \", fasta_df.shape)\n",
        "\n",
        "# Step 2: Load labels file (Two columns: id and label)\n",
        "labels_df = pd.read_csv(\"labels.txt\", sep='\\t', engine='python', header=None, names=['id', 'label'])\n",
        "labels_df['id'] = labels_df['id'].astype(str).apply(normalize_id)\n",
        "\n",
        "print(\"Shape of labels_df: \", labels_df.shape)\n",
        "\n",
        "# # --- Added for debugging ---\n",
        "# print(\"First 5 IDs in fasta_df:\")\n",
        "# print(fasta_df['id'].head())\n",
        "# print(\"\\nFirst 5 IDs in labels_df:\")\n",
        "# print(labels_df['id'].head())\n",
        "# print(\"-\" * 20)\n",
        "# # --- End of debugging additions ---\n",
        "\n",
        "# Step 3: Merge the sequences with labels on ID\n",
        "merged_df = pd.merge(fasta_df, labels_df, on='id')\n",
        "\n",
        "# --- Added for debugging ---\n",
        "print(f\"Number of rows in merged_df after initial merge: {len(merged_df)}\")\n",
        "# --- End of debugging additions ---\n",
        "\n",
        "# print(\"Shape after merging: \", merged_df.shape)\n",
        "\n",
        "# Step 4: Remove sequences with ambiguous nucleotides\n",
        "merged_df['sequence'] = merged_df['sequence'].str.upper()\n",
        "merged_df = merged_df[~merged_df['sequence'].str.contains('[^ATGC]')]\n",
        "\n",
        "# print(\"Shape after merging: \", merged_df.shape)\n",
        "\n",
        "merged_df.to_csv('processed_sequences.csv', index=False)\n",
        "\n",
        "# # Step 5: Balance the classes if needed\n",
        "# min_class_size = min(merged_df['label'].value_counts())\n",
        "# data_bal = pd.concat([\n",
        "#     merged_df[merged_df['label'] == 0].sample(min_class_size, random_state=42),\n",
        "#     merged_df[merged_df['label'] == 1].sample(min_class_size, random_state=42)\n",
        "# ])\n",
        "\n",
        "# # Step 6: Save processed data\n",
        "# data_bal.to_csv('processed_sequences.csv', index=False)"
      ]
    },
    {
      "cell_type": "code",
      "source": [
        "data_bal.shape\n",
        "min_class_size = min(data_bal['label'].value_counts())\n",
        "data_bal['label'].value_counts()\n",
        "\n",
        "merged_df.shape\n",
        "min_class_size = min(merged_df['label'].value_counts())\n",
        "merged_df['label'].value_counts()"
      ],
      "metadata": {
        "colab": {
          "base_uri": "https://localhost:8080/",
          "height": 178
        },
        "id": "L4zddDgKCpsv",
        "outputId": "e8bc774d-21e9-48f6-b823-9b3c625a158a"
      },
      "execution_count": 43,
      "outputs": [
        {
          "output_type": "execute_result",
          "data": {
            "text/plain": [
              "label\n",
              "1    98\n",
              "0    37\n",
              "Name: count, dtype: int64"
            ],
            "text/html": [
              "<div>\n",
              "<style scoped>\n",
              "    .dataframe tbody tr th:only-of-type {\n",
              "        vertical-align: middle;\n",
              "    }\n",
              "\n",
              "    .dataframe tbody tr th {\n",
              "        vertical-align: top;\n",
              "    }\n",
              "\n",
              "    .dataframe thead th {\n",
              "        text-align: right;\n",
              "    }\n",
              "</style>\n",
              "<table border=\"1\" class=\"dataframe\">\n",
              "  <thead>\n",
              "    <tr style=\"text-align: right;\">\n",
              "      <th></th>\n",
              "      <th>count</th>\n",
              "    </tr>\n",
              "    <tr>\n",
              "      <th>label</th>\n",
              "      <th></th>\n",
              "    </tr>\n",
              "  </thead>\n",
              "  <tbody>\n",
              "    <tr>\n",
              "      <th>1</th>\n",
              "      <td>98</td>\n",
              "    </tr>\n",
              "    <tr>\n",
              "      <th>0</th>\n",
              "      <td>37</td>\n",
              "    </tr>\n",
              "  </tbody>\n",
              "</table>\n",
              "</div><br><label><b>dtype:</b> int64</label>"
            ]
          },
          "metadata": {},
          "execution_count": 43
        }
      ]
    },
    {
      "cell_type": "markdown",
      "source": [
        "### **Generate DNABERT Embeddings**"
      ],
      "metadata": {
        "id": "1TetlWRFDSVB"
      }
    },
    {
      "cell_type": "code",
      "source": [
        "import torch\n",
        "from transformers import AutoTokenizer, AutoModel\n",
        "import numpy as np\n",
        "import pandas as pd\n",
        "\n",
        "# Load tokenizer and model\n",
        "model_name = \"zhihan1996/DNA_bert_6\"  # For 6-mer DNABERT\n",
        "tokenizer = AutoTokenizer.from_pretrained(model_name)\n",
        "model = AutoModel.from_pretrained(model_name)\n",
        "\n",
        "# Function to convert DNA sequence to k-mers\n",
        "def seq_to_kmers(seq, k=6):\n",
        "    kmers = []\n",
        "    for i in range(len(seq) - k + 1):\n",
        "        kmers.append(seq[i:i+k])\n",
        "    return \" \".join(kmers)\n",
        "\n",
        "# Load your sequences\n",
        "data = pd.read_csv('processed_sequences.csv')\n",
        "\n",
        "# Convert to k-mers and generate embeddings\n",
        "embeddings = []\n",
        "labels = []\n",
        "\n",
        "for idx, row in data.iterrows():\n",
        "    seq = row['sequence']\n",
        "    label = row['label']\n",
        "\n",
        "    # Convert to k-mers\n",
        "    kmer_seq = seq_to_kmers(seq)\n",
        "\n",
        "    # Tokenize and get embeddings\n",
        "    inputs = tokenizer(kmer_seq, return_tensors=\"pt\", truncation=True, max_length=512)\n",
        "\n",
        "    with torch.no_grad():\n",
        "        outputs = model(**inputs)\n",
        "\n",
        "    # Get CLS token embedding (first token)\n",
        "    cls_embedding = outputs.last_hidden_state[:, 0, :].numpy().flatten()\n",
        "\n",
        "    embeddings.append(cls_embedding)\n",
        "    labels.append(label)\n",
        "\n",
        "# Save embeddings\n",
        "embedding_df = pd.DataFrame(embeddings)\n",
        "embedding_df['label'] = labels\n",
        "embedding_df.to_csv('dnabert_embeddings.csv', index=False)"
      ],
      "metadata": {
        "id": "JQe2Ps7-_Eia"
      },
      "execution_count": 44,
      "outputs": []
    },
    {
      "cell_type": "markdown",
      "source": [
        "### **Dimensionality Reduction and Visualization**"
      ],
      "metadata": {
        "id": "C-qDyElYLBIq"
      }
    },
    {
      "cell_type": "code",
      "source": [
        "from sklearn.decomposition import PCA\n",
        "from sklearn.manifold import TSNE\n",
        "import umap\n",
        "import matplotlib.pyplot as plt\n",
        "import seaborn as sns\n",
        "\n",
        "# Load embeddings\n",
        "embedding_df = pd.read_csv('dnabert_embeddings.csv')\n",
        "X = embedding_df.drop('label', axis=1).values\n",
        "y = embedding_df['label'].values\n",
        "\n",
        "# PCA for initial dimensionality reduction\n",
        "pca = PCA(n_components=50)\n",
        "X_pca = pca.fit_transform(X)\n",
        "\n",
        "pca_df = pd.DataFrame(X_pca)\n",
        "pca_df.columns = [f'PC{i+1}' for i in range(pca_df.shape[1])]\n",
        "pca_df.to_csv('pca_embeddings.csv', index=False)\n",
        "\n",
        "# t-SNE for visualization\n",
        "tsne = TSNE(n_components=2, random_state=42)\n",
        "X_tsne = tsne.fit_transform(X_pca)\n",
        "\n",
        "# UMAP for visualization (alternative)\n",
        "reducer = umap.UMAP(random_state=42)\n",
        "X_umap = reducer.fit_transform(X_pca)\n",
        "\n",
        "umap_df = pd.DataFrame(X_umap)\n",
        "# umap_df.columns = [f'PC{i+1}' for i in range(pca_df.shape[1])]\n",
        "umap_df.to_csv('umap_embeddings.csv', index=False)\n",
        "\n",
        "# Visualize\n",
        "plt.figure(figsize=(12, 5))\n",
        "\n",
        "# t-SNE plot\n",
        "plt.subplot(1, 2, 1)\n",
        "sns.scatterplot(x=X_tsne[:, 0], y=X_tsne[:, 1], hue=y, palette='Set1')\n",
        "plt.title('t-SNE visualization')\n",
        "\n",
        "# UMAP plot\n",
        "plt.subplot(1, 2, 2)\n",
        "sns.scatterplot(x=X_umap[:, 0], y=X_umap[:, 1], hue=y, palette='Set1')\n",
        "plt.title('UMAP visualization')\n",
        "\n",
        "plt.tight_layout()\n",
        "plt.savefig('embedding_visualization.png')\n",
        "plt.show()"
      ],
      "metadata": {
        "colab": {
          "base_uri": "https://localhost:8080/",
          "height": 611
        },
        "id": "etmAun1aDsee",
        "outputId": "2394439b-c444-4faf-cb26-3003f9a31bd0"
      },
      "execution_count": 45,
      "outputs": [
        {
          "output_type": "stream",
          "name": "stderr",
          "text": [
            "/usr/local/lib/python3.11/dist-packages/sklearn/utils/deprecation.py:151: FutureWarning: 'force_all_finite' was renamed to 'ensure_all_finite' in 1.6 and will be removed in 1.8.\n",
            "  warnings.warn(\n",
            "/usr/local/lib/python3.11/dist-packages/umap/umap_.py:1952: UserWarning: n_jobs value 1 overridden to 1 by setting random_state. Use no seed for parallelism.\n",
            "  warn(\n",
            "/usr/local/lib/python3.11/dist-packages/sklearn/manifold/_spectral_embedding.py:329: UserWarning: Graph is not fully connected, spectral embedding may not work as expected.\n",
            "  warnings.warn(\n"
          ]
        },
        {
          "output_type": "display_data",
          "data": {
            "text/plain": [
              "<Figure size 1200x500 with 2 Axes>"
            ],
            "image/png": "[encoded data removed]"
          },
          "metadata": {}
        }
      ]
    },
    {
      "cell_type": "markdown",
      "source": [
        "### **Outlier Detection**"
      ],
      "metadata": {
        "id": "wOPthki_Qx4C"
      }
    },
    {
      "cell_type": "code",
      "source": [
        "from sklearn.ensemble import IsolationForest\n",
        "from sklearn.neighbors import LocalOutlierFactor\n",
        "import numpy as np\n",
        "import matplotlib.pyplot as plt\n",
        "\n",
        "# Load dimensionality-reduced embeddings\n",
        "X_pca = pd.read_csv('pca_embeddings.csv').values\n",
        "labels = pd.read_csv('dnabert_embeddings.csv')['label'].values\n",
        "\n",
        "# Apply Isolation Forest\n",
        "iso_forest = IsolationForest(contamination=0.10, random_state=42)\n",
        "outliers_if = iso_forest.fit_predict(X_pca)\n",
        "# Convert to binary (1: inlier, -1: outlier)\n",
        "outliers_if = [1 if x == -1 else 0 for x in outliers_if]\n",
        "\n",
        "# Apply Local Outlier Factor\n",
        "lof = LocalOutlierFactor(n_neighbors=20, contamination=0.10)\n",
        "outliers_lof = lof.fit_predict(X_pca)\n",
        "# Convert to binary (1: inlier, -1: outlier)\n",
        "outliers_lof = [1 if x == -1 else 0 for x in outliers_lof]\n",
        "\n",
        "# Create DataFrame with results\n",
        "results = pd.DataFrame({\n",
        "    'sequence_id': range(len(X_pca)),\n",
        "    'true_label': labels,\n",
        "    'isolation_forest_outlier': outliers_if,\n",
        "    'lof_outlier': outliers_lof,\n",
        "    'consensus_outlier': [1 if a + b > 0 else 0 for a, b in zip(outliers_if, outliers_lof)]\n",
        "})\n",
        "\n",
        "# Save results\n",
        "results.to_csv('outlier_detection_results.csv', index=False)\n",
        "\n",
        "# Visualize outliers on UMAP projection\n",
        "X_umap = pd.read_csv('umap_embeddings.csv').values\n",
        "\n",
        "plt.figure(figsize=(12, 5))\n",
        "\n",
        "# Plot by Isolation Forest\n",
        "plt.subplot(1, 2, 1)\n",
        "scatter_iso = sns.scatterplot(\n",
        "    x=X_umap[:, 0],\n",
        "    y=X_umap[:, 1],\n",
        "    hue=outliers_if,\n",
        "    palette={0: 'blue', 1: 'red'}\n",
        ")\n",
        "plt.title('Isolation Forest Outliers')\n",
        "handles, _ = scatter_iso.get_legend_handles_labels()\n",
        "plt.legend(handles=handles, labels=['Inlier (0)', 'Outlier (1)'], title='Class')\n",
        "\n",
        "\n",
        "# Plot by LOF\n",
        "plt.subplot(1, 2, 2)\n",
        "scatter_lof = sns.scatterplot(x=X_umap[:, 0], y=X_umap[:, 1], hue=outliers_lof, palette={0: 'blue', 1: 'red'})\n",
        "plt.title('LOF Outliers')\n",
        "handles, _ = scatter_lof.get_legend_handles_labels()\n",
        "plt.legend(handles=handles, labels=['Inlier (0)', 'Outlier (1)'], title='Class')\n",
        "\n",
        "\n",
        "plt.tight_layout()\n",
        "plt.savefig('outlier_visualization.png')\n",
        "plt.show()"
      ],
      "metadata": {
        "colab": {
          "base_uri": "https://localhost:8080/",
          "height": 542
        },
        "id": "NR8_i8xNNVP2",
        "outputId": "53194035-6d5d-48fc-aa58-6bd2f52cfd00"
      },
      "execution_count": 57,
      "outputs": [
        {
          "output_type": "stream",
          "name": "stderr",
          "text": [
            "/usr/local/lib/python3.11/dist-packages/sklearn/neighbors/_lof.py:322: UserWarning: Duplicate values are leading to incorrect results. Increase the number of neighbors for more accurate results.\n",
            "  warnings.warn(\n"
          ]
        },
        {
          "output_type": "display_data",
          "data": {
            "text/plain": [
              "<Figure size 1200x500 with 2 Axes>"
            ],
            "image/png": "[encoded data removed]"
          },
          "metadata": {}
        }
      ]
    },
    {
      "cell_type": "markdown",
      "source": [
        "### **Evaluation and Analysis**"
      ],
      "metadata": {
        "id": "fhdTto9ZUV6w"
      }
    },
    {
      "cell_type": "code",
      "source": [
        "from sklearn.model_selection import train_test_split\n",
        "from sklearn.linear_model import LogisticRegression\n",
        "from sklearn.metrics import classification_report, accuracy_score\n",
        "from Bio import Entrez, SeqIO\n",
        "from io import StringIO\n",
        "\n",
        "# Load data\n",
        "results = pd.read_csv('outlier_detection_results.csv')\n",
        "X_pca = pd.read_csv('pca_embeddings.csv').values\n",
        "labels = results['true_label'].values\n",
        "outliers = results['consensus_outlier'].values\n",
        "\n",
        "# Evaluate impact on classification\n",
        "# Create datasets with and without outliers\n",
        "X_with_outliers = X_pca\n",
        "y_with_outliers = labels\n",
        "\n",
        "X_without_outliers = X_pca[outliers == 0]\n",
        "y_without_outliers = labels[outliers == 0]\n",
        "\n",
        "# Train-test split\n",
        "X_train_with, X_test_with, y_train_with, y_test_with = train_test_split(\n",
        "    X_with_outliers, y_with_outliers, test_size=0.3, random_state=42)\n",
        "\n",
        "X_train_without, X_test_without, y_train_without, y_test_without = train_test_split(\n",
        "    X_without_outliers, y_without_outliers, test_size=0.3, random_state=42)\n",
        "\n",
        "# Train classifiers\n",
        "clf_with = LogisticRegression(random_state=42).fit(X_train_with, y_train_with)\n",
        "clf_without = LogisticRegression(random_state=42).fit(X_train_without, y_train_without)\n",
        "\n",
        "# Evaluate\n",
        "y_pred_with = clf_with.predict(X_test_with)\n",
        "y_pred_without = clf_without.predict(X_test_without)\n",
        "\n",
        "# Print results\n",
        "print(\"Classification with outliers:\")\n",
        "print(classification_report(y_test_with, y_pred_with))\n",
        "print(\"Accuracy:\", accuracy_score(y_test_with, y_pred_with))\n",
        "\n",
        "print(\"\\nClassification without outliers:\")\n",
        "print(classification_report(y_test_without, y_pred_without))\n",
        "print(\"Accuracy:\", accuracy_score(y_test_without, y_pred_without))\n",
        "\n",
        "# Optional: BLAST validation for a few outliers\n",
        "# This is a simplified example - would need to be expanded\n",
        "def blast_sequence(seq):\n",
        "    Entrez.email = \"your_email@example.com\"  # Set your email\n",
        "\n",
        "    # Run BLAST\n",
        "    result_handle = NCBI.qblast(\"blastn\", \"nt\", seq)\n",
        "    blast_results = result_handle.read()\n",
        "    return blast_results\n",
        "\n",
        "# Analyze a few outliers if original sequences are available\n",
        "original_sequences = pd.read_csv('processed_sequences.csv')['sequence'].values\n",
        "outlier_indices = np.where(outliers == 1)[0]\n",
        "\n",
        "for idx in outlier_indices[:5]:  # First 5 outliers\n",
        "    seq = original_sequences[idx]\n",
        "    true_label = labels[idx]\n",
        "    print(f\"Outlier {idx}, True label: {true_label}\")\n",
        "    print(f\"Sequence length: {len(seq)}\")\n",
        "    # Uncomment to run BLAST (takes time)\n",
        "    # blast_result = blast_sequence(seq)\n",
        "    # print(\"BLAST top hit:\", blast_result)\n",
        "    print(\"-\" * 50)"
      ],
      "metadata": {
        "colab": {
          "base_uri": "https://localhost:8080/"
        },
        "id": "h6TW5Oy1Q3ED",
        "outputId": "d3f825ed-95d9-4e32-e85d-6315cd5f40d6"
      },
      "execution_count": 58,
      "outputs": [
        {
          "output_type": "stream",
          "name": "stdout",
          "text": [
            "Classification with outliers:\n",
            "              precision    recall  f1-score   support\n",
            "\n",
            "           0       0.90      0.82      0.86        11\n",
            "           1       0.94      0.97      0.95        30\n",
            "\n",
            "    accuracy                           0.93        41\n",
            "   macro avg       0.92      0.89      0.90        41\n",
            "weighted avg       0.93      0.93      0.93        41\n",
            "\n",
            "Accuracy: 0.926829268292683\n",
            "\n",
            "Classification without outliers:\n",
            "              precision    recall  f1-score   support\n",
            "\n",
            "           0       0.82      0.90      0.86        10\n",
            "           1       0.95      0.91      0.93        23\n",
            "\n",
            "    accuracy                           0.91        33\n",
            "   macro avg       0.89      0.91      0.90        33\n",
            "weighted avg       0.91      0.91      0.91        33\n",
            "\n",
            "Accuracy: 0.9090909090909091\n",
            "Outlier 1, True label: 0\n",
            "Sequence length: 1296\n",
            "--------------------------------------------------\n",
            "Outlier 5, True label: 0\n",
            "Sequence length: 1296\n",
            "--------------------------------------------------\n",
            "Outlier 7, True label: 1\n",
            "Sequence length: 1296\n",
            "--------------------------------------------------\n",
            "Outlier 10, True label: 1\n",
            "Sequence length: 1296\n",
            "--------------------------------------------------\n",
            "Outlier 11, True label: 1\n",
            "Sequence length: 1296\n",
            "--------------------------------------------------\n"
          ]
        }
      ]
    },
    {
      "cell_type": "code",
      "source": [],
      "metadata": {
        "id": "eu9HuNKqUbIQ"
      },
      "execution_count": null,
      "outputs": []
    }
  ]
}